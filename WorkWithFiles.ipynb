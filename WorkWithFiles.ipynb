{
 "cells": [
  {
   "cell_type": "code",
   "execution_count": 37,
   "id": "41531c35",
   "metadata": {},
   "outputs": [],
   "source": [
    "class Person:\n",
    "    massPerson = []\n",
    "    def __init__ (self, name, age):\n",
    "        self.name = name\n",
    "        self.age = age"
   ]
  },
  {
   "cell_type": "code",
   "execution_count": 40,
   "id": "1f5af3f1",
   "metadata": {},
   "outputs": [
    {
     "name": "stdout",
     "output_type": "stream",
     "text": [
      "28.666666666666668\n"
     ]
    }
   ],
   "source": [
    "with open(\"data.txt\", \"r\") as file:\n",
    "    mass = file.readlines()\n",
    "\n",
    "lst = []\n",
    "name = []\n",
    "age = []\n",
    "for i in range (0, len(mass)):\n",
    "    lst = mass[i].split()\n",
    "    name.append(lst[0] + \" \" + lst[1][0] + \".\" + lst[2][0] + \".\")\n",
    "    age.append(lst[3])\n",
    "    \n",
    "p1 = Person(name[0], age[0])\n",
    "Person.massPerson.append(p1)\n",
    "p2 = Person(name[1], age[1])\n",
    "Person.massPerson.append(p2)\n",
    "p3 = Person(name[2], age[2])\n",
    "Person.massPerson.append(p3)\n",
    "\n",
    "avAge = 0\n",
    "for e in Person.massPerson:\n",
    "    avAge += int(e.age)\n",
    "print(avAge / len(Person.massPerson))"
   ]
  },
  {
   "cell_type": "code",
   "execution_count": null,
   "id": "6bf5db1b",
   "metadata": {},
   "outputs": [],
   "source": []
  }
 ],
 "metadata": {
  "kernelspec": {
   "display_name": "Python 3",
   "language": "python",
   "name": "python3"
  },
  "language_info": {
   "codemirror_mode": {
    "name": "ipython",
    "version": 3
   },
   "file_extension": ".py",
   "mimetype": "text/x-python",
   "name": "python",
   "nbconvert_exporter": "python",
   "pygments_lexer": "ipython3",
   "version": "3.8.8"
  }
 },
 "nbformat": 4,
 "nbformat_minor": 5
}
